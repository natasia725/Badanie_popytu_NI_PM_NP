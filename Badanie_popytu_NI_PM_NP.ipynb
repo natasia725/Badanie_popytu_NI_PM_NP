{
  "nbformat": 4,
  "nbformat_minor": 0,
  "metadata": {
    "colab": {
      "name": "Badanie_popytu_NI_PM_NP.ipynb",
      "provenance": [],
      "collapsed_sections": []
    },
    "kernelspec": {
      "name": "python3",
      "display_name": "Python 3"
    },
    "language_info": {
      "name": "python"
    }
  },
  "cells": [
    {
      "cell_type": "code",
      "metadata": {
        "id": "DajI9oaB_Ww0",
        "colab": {
          "base_uri": "https://localhost:8080/"
        },
        "outputId": "c28f99ba-90db-496f-cb1b-61321c128d7d"
      },
      "source": [
        "!pip install bar_chart_race #instalacja wyścigu wykresów słupkowych\n",
        "\n",
        "import pandas as pd #zaimportowanie biblioteki do analizy danych\n",
        "\n",
        "import matplotlib.pyplot as plt #zaimportowanie biblioteki do tworzenia wykresów\n",
        "\n",
        "import bar_chart_race as bcr #zaimportowanie wyścigu wykresów słupkowych\n",
        "\n",
        "import seaborn as sns #zaimportowanie biblioteki do wizualizacji danych\n",
        "\n",
        "#Ładowanie danych\n",
        "data_1 = pd.read_csv(\"rodzaje_piw.csv\") #Wczytanie pliku 'rodzaje_piw.csv'\n",
        "\n",
        "data_1.set_index(\"date\", inplace = True) #Indeksowanie po dacie\n",
        "suma = data_1.cumsum(axis=0) #Sumowanie po dacie\n",
        "\n",
        "#Tworzenie wyścigu wykresów:\n",
        "bcr.bar_chart_race( \n",
        "    df = suma, #Przekazanie zmiennej suma jako argumentu funkcji\n",
        "    fixed_max = True, #Ustawienie wartości maksymalnej\n",
        "    figsize=(5, 3), #Ustawienie rozmiaru figury\n",
        "    orientation = 'h', #Ustawienie orientacji poziomej\n",
        "    filename = 'Badanie_popytu.mp4', #Zapis do pliku mp4\n",
        "    title = 'Suma sprzedanych piw poszczególnych marek' #Ustawienie tytułu wykresu słupkowego\n",
        ")"
      ],
      "execution_count": 9,
      "outputs": [
        {
          "output_type": "stream",
          "name": "stdout",
          "text": [
            "Requirement already satisfied: bar_chart_race in /usr/local/lib/python3.7/dist-packages (0.1.0)\n",
            "Requirement already satisfied: matplotlib>=3.1 in /usr/local/lib/python3.7/dist-packages (from bar_chart_race) (3.2.2)\n",
            "Requirement already satisfied: pandas>=0.24 in /usr/local/lib/python3.7/dist-packages (from bar_chart_race) (1.1.5)\n",
            "Requirement already satisfied: pyparsing!=2.0.4,!=2.1.2,!=2.1.6,>=2.0.1 in /usr/local/lib/python3.7/dist-packages (from matplotlib>=3.1->bar_chart_race) (3.0.6)\n",
            "Requirement already satisfied: python-dateutil>=2.1 in /usr/local/lib/python3.7/dist-packages (from matplotlib>=3.1->bar_chart_race) (2.8.2)\n",
            "Requirement already satisfied: cycler>=0.10 in /usr/local/lib/python3.7/dist-packages (from matplotlib>=3.1->bar_chart_race) (0.11.0)\n",
            "Requirement already satisfied: numpy>=1.11 in /usr/local/lib/python3.7/dist-packages (from matplotlib>=3.1->bar_chart_race) (1.19.5)\n",
            "Requirement already satisfied: kiwisolver>=1.0.1 in /usr/local/lib/python3.7/dist-packages (from matplotlib>=3.1->bar_chart_race) (1.3.2)\n",
            "Requirement already satisfied: pytz>=2017.2 in /usr/local/lib/python3.7/dist-packages (from pandas>=0.24->bar_chart_race) (2018.9)\n",
            "Requirement already satisfied: six>=1.5 in /usr/local/lib/python3.7/dist-packages (from python-dateutil>=2.1->matplotlib>=3.1->bar_chart_race) (1.15.0)\n"
          ]
        }
      ]
    },
    {
      "cell_type": "code",
      "metadata": {
        "id": "M8OiJYP-lFwF"
      },
      "source": [
        ""
      ],
      "execution_count": null,
      "outputs": []
    }
  ]
}